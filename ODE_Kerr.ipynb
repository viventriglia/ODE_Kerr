{
 "cells": [
  {
   "cell_type": "markdown",
   "metadata": {},
   "source": [
    "## Photons in a Kerr spacetime\n",
    "\n",
    "In this notebook we wish to integrate the null (or light-like) **geodesics** of a rotating (Kerr) **black-hole spacetime** in General Relativity. This means looking at the [**photons**](https://en.wikipedia.org/wiki/Photon) orbiting the rotating black hole.\n",
    "\n",
    "Here we follow closely the method presented in [Pu et al. (2016)](https://ui.adsabs.harvard.edu/abs/2016ApJ...820..105P/abstract). The following code was developed during the tutorials of the Black Holes and Neutron Stars course (Dr. C. Fromm and Dr. R. Gold) at the ITP of the Goethe-Universität (Frankfurt am Main).\n",
    "\n",
    "Using geometrized units, $c=G=1$, the [Kerr metric](http://www.roma1.infn.it/teongrav/leonardo/bh/bhcap3.pdf) in Boyer-Lindquist coordinates is written as\n",
    "$$\\mathrm{d}s^{2}=-\\left(1-\\frac{2Mr}{\\Sigma}\\right) \\mathrm{d}t^{2}-\\frac{4aMr\\sin^{2}\\theta}{\\Sigma} \\mathrm{d}t \\mathrm{d}\\phi+\\frac{\\Sigma}{\\Delta} \\mathrm{d}r^{2}+\\Sigma \\mathrm{d}\\theta^{2}+\\left(r^{2}+a^{2}+\\frac{2a^{2}Mr\\sin^{2}\\theta}{\\Sigma}\\right) \\sin^{2}\\theta \\mathrm{d}\\phi^{2},$$\n",
    "where $\\Sigma\\equiv r^2 + a^2 \\cos^2 \\theta$ and $\\Delta\\equiv r^2 - 2Mr + a^2$. For simplicity, we will set also $M=1$."
   ]
  },
  {
   "cell_type": "markdown",
   "metadata": {},
   "source": [
    "We start by importing all useful packages."
   ]
  },
  {
   "cell_type": "code",
   "execution_count": 1,
   "metadata": {},
   "outputs": [],
   "source": [
    "import numpy as np\n",
    "import math\n",
    "\n",
    "from scipy.integrate import odeint\n",
    "from scipy.integrate import solve_ivp\n",
    "\n",
    "from pylab import *\n",
    "import matplotlib.pyplot as plt\n",
    "from mpl_toolkits.mplot3d import Axes3D"
   ]
  },
  {
   "cell_type": "markdown",
   "metadata": {},
   "source": [
    "## Initial conditions\n",
    "\n",
    "We create a function to evaluate **initial conditions** for each photon (this is an [initial value problem](https://en.wikipedia.org/wiki/Initial_value_problem#:~:text=An%20initial%20value%20problem%20is,solving%20an%20initial%20value%20problem)).\n",
    "\n",
    "In order to do so, we must first set up a relation between an observer located at some distance $r_{\\mathrm{obs}}$ and orientation $\\theta_{\\mathrm{obs}}$, $\\phi_{\\mathrm{obs}}$ from the black-hole frame. We designate the spatial coordinates for the observer frame by $\\mathbf{\\alpha}=\\left(\\alpha, \\beta, \\gamma\\right)$ and we initialise them in a way that the $\\gamma$-axis points in the $r_{\\mathrm{obs}}$ direction; similarly, we adopt $\\mathbf{x}=\\left(x, y, z\\right)$ for the black-hole frame.\n",
    "\n",
    "Hence, the observer and black-hole frame are related by the transformation\n",
    "$$\\mathbf{x}=\\left(\\begin{array}{c}\n",
    "\\mathcal{D}(\\beta, \\gamma) \\cos\\phi_{\\mathrm{obs}} -\\alpha\\sin\\phi_{\\mathrm{obs}} \\\\\n",
    "\\mathcal{D}(\\beta, \\gamma) \\cos\\phi_{\\mathrm{obs}} + \\alpha\\cos\\phi_{\\mathrm{obs}} \\\\\n",
    "\\left(r_{\\mathrm{obs}}-\\gamma\\right) \\cos\\theta_{\\mathrm{obs}} + \\beta\\sin\\theta_{\\mathrm{obs}}\n",
    "\\end{array}\\right),$$\n",
    "with\n",
    "$$\\mathcal{D}\\equiv\\left(\\sqrt{r_{\\mathrm{obs}}^{2}+a^{2}}-\\gamma\\right) \\sin\\theta_{\\mathrm{obs}}-\\beta\\cos\\theta_{\\mathrm{obs}}.$$\n",
    "\n",
    "The conversion from cartesian to Boyer-Lindquist coordinates is given by\n",
    "$$\\begin{aligned}\n",
    "r &=\\sqrt{\\frac{w + \\sqrt{w^{2} + 4a^{2}z^{2}}}{2}} \\\\\n",
    "\\theta &=\\arccos \\left(\\frac{z}{r}\\right) \\\\\n",
    "\\phi &=\\arctan\\left(y, x \\right)\n",
    "\\end{aligned},$$\n",
    "where $w\\equiv x^2 + y^2 + z^2 - a^2$."
   ]
  },
  {
   "cell_type": "markdown",
   "metadata": {},
   "source": [
    "We can now consider the velocity of the photon in Boyer-Lindquist coordinates, which can be written as\n",
    "$$\\begin{aligned}\n",
    "\\dot{r} &=-\\frac{r \\mathcal{R} \\sin\\theta\\sin\\theta_{\\mathrm{obs}} \\cos\\Phi + \\mathcal{R}^{2} \\cos\\theta \\cos\\theta_{\\mathrm{obs}}}{\\Sigma} \\\\\n",
    "\\dot{\\theta} &=\\frac{r \\sin\\theta \\cos\\theta_{\\mathrm{obs}}-\\mathcal{R} \\cos\\theta \\sin\\theta_{\\mathrm{obs}} \\cos\\Phi}{\\Sigma} \\\\\n",
    "\\dot{\\phi} &=\\frac{\\sin\\theta_{\\mathrm{obs}} \\sin\\Phi}{\\mathcal{R} \\sin\\theta}\n",
    "\\end{aligned},$$\n",
    "where $\\mathcal{R}\\equiv \\sqrt{r^2 + a^2}$ and $\\Phi \\equiv \\phi - \\phi_{\\mathrm{obs}}$.\n",
    "\n",
    "Now we are in a position to compute the initial values for $r,\\, \\theta,\\, \\phi,\\, t,\\, p_r$ and $p_\\theta$, required to solve the geodesic equations."
   ]
  },
  {
   "cell_type": "code",
   "execution_count": 2,
   "metadata": {},
   "outputs": [],
   "source": [
    "def initial(alpha, beta, r0, theta0, phi0, a):\n",
    "    \n",
    "    # alpha  =  x-coordinate in the image plane \n",
    "    # beta   =  y-coordinate in the image plane\n",
    "    # r0     =  distance to the observer\n",
    "    # theta0 =  inclination of the observer\n",
    "    # phi0   =  azimuthal angle of the observer\n",
    "    # a      =  spin of the black hole\n",
    "    \n",
    "    #####\n",
    "    #calculate initial position\n",
    "    #####\n",
    "    \n",
    "    # correct for small angles in order to avoid zeros\n",
    "    if abs(theta0)<1e-8:\n",
    "        theta0=sign(theta0)*1e-8\n",
    "    if abs(phi0)<1e-8:\n",
    "        phi0=sign(phi0)*1e-8\n",
    "        \n",
    "    # just shorthands\n",
    "    a2 = a**2\n",
    "    r2 = r0**2\n",
    "    \n",
    "    # transformation from observer (with gamma=0) to BH frame\n",
    "    D = sqrt(r2+a2)*sin(theta0) - beta*cos(theta0)\n",
    "    \n",
    "    x= D*cos(phi0) - alpha*sin(phi0)\n",
    "    y= D*sin(phi0) + alpha*cos(phi0)\n",
    "    z= r0*cos(theta0) + beta*sin(theta0)\n",
    "    \n",
    "    w = x**2 + y**2 + z**2 - a2\n",
    "    \n",
    "    # initial 6D-vector (r, theta, phi, t, p_r, p_theta)\n",
    "    y0 = np.zeros(6)\n",
    "    \n",
    "    # convert cartesian to Boyer-Lindquist coords\n",
    "    y0[0] = sqrt((w+sqrt(w*w+(2.*a*z)*(2.*a*z)))/2.)\n",
    "    y0[1] = np.arccos(z/y0[0])\n",
    "    y0[2] = np.arctan2(y, x)\n",
    "    y0[3] = 0\n",
    "    \n",
    "    ########\n",
    "    #calculate initial velocities\n",
    "    ########\n",
    "    \n",
    "    # to make programming easier\n",
    "    r=y0[0]\n",
    "    theta=y0[1]\n",
    "    phi=y0[2]\n",
    "    \n",
    "    # auxiliary variables\n",
    "    sigma = r**2 + (a*cos(theta))**2\n",
    "    R = sqrt(a2 + r**2)\n",
    "    v = -sin(theta0)*cos(phi) # reflect velocity: inverse ray-tracing\n",
    "    zdot = -1.\n",
    "    \n",
    "    # initial velocities in Boyer-Lindquist coords\n",
    "    rdot0 = zdot*(-R*R*cos(theta0)*cos(theta)+r*R*v*sin(theta))/sigma\n",
    "    thetadot0 = zdot*(cos(theta0)*r*sin(theta)+R*v*cos(theta))/sigma\n",
    "    phidot0 = zdot*sin(theta0)*sin(phi)/(R*sin(theta))\n",
    "    \n",
    "    # additional variables\n",
    "    r2 = r**2\n",
    "    delta = r2 - 2.0*r + a2\n",
    "    s1 = sigma -2.0*r\n",
    "    \n",
    "    # conserved energy (see later on)\n",
    "    E = sqrt( s1*(rdot0**2/delta + thetadot0**2) + delta*(sin(theta)**2)*phidot0**2 )\n",
    "    \n",
    "    # conserved 4-momentum (rescaled by energy; see later on)\n",
    "    y0[4]= (rdot0*sigma/delta)/E\n",
    "    y0[5] = (thetadot0*sigma)/E\n",
    "    \n",
    "    # compute angular momentum (see later on)\n",
    "    L = ((sigma*delta*phidot0 - 2.0*a*r*E)*(sin(theta)**2)/s1)/E\n",
    "    \n",
    "    # compute kappa (see later on)\n",
    "    kappa = y0[5]**2 + a2*(sin(theta)**2) + L**2/(sin(theta)**2)\n",
    "    \n",
    "    # return initial-condition vector, energy, angular momentum and kappa as a dictonary\n",
    "    return {'y0': y0, 'E': E, 'L': L, 'kappa': kappa}"
   ]
  },
  {
   "cell_type": "markdown",
   "metadata": {},
   "source": [
    "## Geodesic equations\n",
    "\n",
    "Now we evaluate the [geodesic equations](https://en.wikipedia.org/wiki/Geodesics_in_general_relativity) for a massless particle in a Kerr spacetime, namely given by\n",
    "$$\\begin{aligned}\n",
    "\\dot{r} &=\\frac{\\Delta}{\\Sigma} p_{r} \\\\\n",
    "\\dot{\\theta} &=\\frac{1}{\\Sigma} p_{\\theta} \\\\\n",
    "\\dot{\\phi} &=\\frac{2arE+(\\Sigma-2r) L_{z} \\csc^{2}\\theta}{\\Sigma \\Delta} \\\\\n",
    "\\dot{t} &=E+ \\frac{2r\\left(r^2 + a^2\\right) E-2arL_{z}}{\\Sigma \\Delta} \\\\\n",
    "\\dot{p}_{r} &=\\frac{1}{\\Sigma \\Delta}\\left[-\\kappa(r-1) + 2r\\left(r^2+a^2\\right) E^2 - 2aEL_{z}\\right]-\\frac{2p_{r}^{2}(r-1)}{\\Sigma} \\\\\n",
    "\\dot{p}_{\\theta} &=\\frac{\\sin\\theta \\cos\\theta}{\\Sigma}\\left[\\frac{L_{z}^{2}}{\\sin^4 \\theta}-a^2 E^2\\right]\n",
    "\\end{aligned},\n",
    "$$\n",
    "where $E$ and $L_z$ are the conserved energy and angular momentum of the massless particle, which can be computed from the initial conditions using\n",
    "$$\\begin{aligned}\n",
    "E^{2} &=\\frac{\\Sigma-2r}{\\Sigma\\Delta}\\left(\\Sigma \\dot{r}^2+\\Sigma\\Delta\\dot{\\theta}^2\\right)+\\Delta\\dot{\\phi}^2\\sin ^2 \\theta \\\\\n",
    "L_{z} &=\\frac{(\\Sigma\\Delta\\dot{\\phi} - 2arE) \\sin^2 \\theta}{\\Sigma - 2r}\n",
    "\\end{aligned}.$$\n",
    "The last missing term in the above equations is\n",
    "$$\\kappa\\equiv p^2_\\theta +L^2_z \\csc^2 \\theta + a^2 -E^2 \\sin^2 \\theta.$$"
   ]
  },
  {
   "cell_type": "code",
   "execution_count": 3,
   "metadata": {},
   "outputs": [],
   "source": [
    "def ODEray(t, y, a, kappa, E, L):\n",
    "    \n",
    "    # t      =  t or affine parameter \n",
    "    # y      =  6D state vector (r,theta,phi,t,p_r,p_theta)\n",
    "    # a      =  black hole spin\n",
    "    # kappa  =  kappa\n",
    "    # E      =  conserved energy for each ray\n",
    "    # L      =  conserved angular momentum for each ray\n",
    "    \n",
    "    # get variables to make programming clearer to read\n",
    "    r = y[0]\n",
    "    theta = y[1]\n",
    "    phi = y[2]\n",
    "    t = y[3]\n",
    "    p_r = y[4]\n",
    "    p_th = y[5]\n",
    "    \n",
    "    # auxiliary variables\n",
    "    r2, a2 = r**2, a**2\n",
    "    sin_th, cos_th = sin(theta), cos(theta)\n",
    "    sigma = r2 + a2*(cos(theta)**2)\n",
    "    delta = r2 - 2.0*r + a2\n",
    "    \n",
    "    # avoid small numbers\n",
    "    if abs(sin_th)<1e-8:\n",
    "        sin_th = sign(sin_th)*1e-8\n",
    "        \n",
    "    # set equation array for derivatives\n",
    "    eqs = np.zeros(6)\n",
    "    \n",
    "    # geodesic equs. -- the actual physics here, sorry if you cannot understand\n",
    "    eqs[0] = -p_r*delta/sigma\n",
    "    eqs[1] = -p_th/sigma\n",
    "    eqs[2] = -(2.0*r*a + (sigma-2.0*r)*L/(sin_th**2))/(sigma*delta)\n",
    "    eqs[3] = -(1.0 + (2.0*r*(r2+a2) - 2.0*r*a*L)/(sigma*delta))\n",
    "    eqs[4] = -(((r-1.0)*(-kappa) + 2.0*r*(r2+a2) - 2.0*a* L)/(sigma*delta) - 2.0*(p_r**2)*(r - 1.0)/sigma)\n",
    "    eqs[5] = - sin_th*cos_th*(L**2 / sin_th**4 - a2)/sigma\n",
    "    \n",
    "    return eqs"
   ]
  },
  {
   "cell_type": "markdown",
   "metadata": {},
   "source": [
    "## Integrating the geodesics\n",
    "\n",
    "Now we can solve the geodesic equations. But, before doing so, we should tell the integrator when it should stop."
   ]
  },
  {
   "cell_type": "code",
   "execution_count": 4,
   "metadata": {},
   "outputs": [],
   "source": [
    "def hit_r_EH(t, y):\n",
    "    \n",
    "    # stop rays at the horizon\n",
    "    r_EH = M + sqrt(M**2 - a**2)\n",
    "    \n",
    "    return y[0] - abs(r_EH + 1e-2)\n",
    "\n",
    "def leavimg(t, y):\n",
    "    \n",
    "    # stop rays after some distance\n",
    "    return 12 - abs(y[0])"
   ]
  },
  {
   "cell_type": "markdown",
   "metadata": {},
   "source": [
    "Then, we combine all the (sub-)routines in one, and compute a ray solving the initial value problem with the ```solve_ivp``` function."
   ]
  },
  {
   "cell_type": "code",
   "execution_count": 5,
   "metadata": {},
   "outputs": [],
   "source": [
    "def ray(M, a, r0, alpha, beta, theta0, phi0, tmin, tmax):\n",
    "    \n",
    "    init_cond = initial(alpha, beta, r0, theta0, phi0, a)\n",
    "    kappa, E, L = init_cond['kappa'], init_cond['E'], init_cond['L']\n",
    "    \n",
    "    # set terminate conditions for the scipy integrator\n",
    "    # stop rays which hit the horizon\n",
    "    hit_r_EH.terminal = True\n",
    "    \n",
    "    # stop rays which travelled to r greater than a certain value to be chosen\n",
    "    leavimg.terminal = True\n",
    "    \n",
    "    # call ODE solver\n",
    "    # see https://docs.scipy.org/doc/scipy/reference/generated/scipy.integrate.solve_ivp.html#scipy.integrate.solve_ivp\n",
    "    solver = solve_ivp(lambda t, y: ODEray(t, y, a, kappa, E, L),\n",
    "                       t_span=[tmin, tmax], y0 = init_cond['y0'],\n",
    "                       method = 'Radau', events=(hit_r_EH,leavimg),\n",
    "                       dense_output = True,\n",
    "                       atol = 1e-8, rtol = 1e-6)\n",
    "    \n",
    "    # compute x, y, z in cartesian coords\n",
    "    x = solver.y[0,:]*cos(solver.y[2,:])*sin(solver.y[1,:])\n",
    "    y=solver.y[0,:]*sin(solver.y[2,:])*sin(solver.y[1,:])\n",
    "    z=solver.y[0,:]*cos(solver.y[1,:])\n",
    "    \n",
    "    return {'solver': solver, 'x': x, 'y': y, 'z': z}"
   ]
  },
  {
   "cell_type": "markdown",
   "metadata": {},
   "source": [
    "## Plotting\n",
    "\n",
    "Finally, we build a function to plot the photon together with the relevant black-hole surfaces. These are the *Event Horizon* and the *static-limit surface* (outer boundary of the *ergosphere*), defined by\n",
    "$$\\begin{aligned}\n",
    "r_{\\mathrm{EH}} &\\equiv M + \\sqrt{M^2 - a^2}, \\\\\n",
    "r_{\\mathrm{SL}} &\\equiv M + \\sqrt{M^2 - a^2\\cos^2\\theta}.\n",
    "\\end{aligned}$$"
   ]
  },
  {
   "cell_type": "code",
   "execution_count": 6,
   "metadata": {},
   "outputs": [],
   "source": [
    "def plot3d_ray(x, y, z, dim, M, a):\n",
    "    \n",
    "    fig = plt.figure()\n",
    "    ax = fig.gca(projection='3d', facecolor='w')\n",
    "    \n",
    "    for i in range(len(x)):\n",
    "        plot(x[i], y[i], z[i], ls='-', lw=0.5)\n",
    "    \n",
    "    ax.set_xlabel('$x$')\n",
    "    ax.set_xlim3d(dim[0], dim[1])\n",
    "    ax.set_ylabel('$y$')\n",
    "    ax.set_ylim3d(dim[2], dim[3])\n",
    "    ax.set_zlabel('$z$')\n",
    "    ax.set_zlim3d(dim[4], dim[5])\n",
    "    locator_params(nbins=4)\n",
    "    \n",
    "    u, v = np.linspace(0, 2*np.pi, 100), np.linspace(0, np.pi, 100)\n",
    "    \n",
    "    xx=np.outer(np.cos(u), np.sin(v))\n",
    "    yy=np.outer(np.sin(u), np.sin(v))\n",
    "    zz=np.outer(np.ones(np.size(u)), np.cos(v))\n",
    "    \n",
    "    r_EH = M + sqrt(M**2 - a**2)\n",
    "    r_SL = M + sqrt(M**2 - a**2*cos(v)**2)\n",
    "    \n",
    "    x_EH = r_EH * xx\n",
    "    y_EH = r_EH * yy\n",
    "    z_EH = r_EH * zz\n",
    "    \n",
    "    x_SL = r_SL * xx\n",
    "    y_SL = r_SL * yy\n",
    "    z_SL = r_SL * zz\n",
    "    \n",
    "    ax.plot_surface(x_EH, y_EH, z_EH, color='k', alpha=1)\n",
    "    ax.plot_surface(x_SL, y_SL, z_SL, color='b', alpha=0.2)\n",
    "    \n",
    "    fig.savefig('wow.png', dpi=200)\n",
    "    show()"
   ]
  },
  {
   "cell_type": "markdown",
   "metadata": {},
   "source": [
    "Now we can set black-hole parameters (just 2!), the observer position and the initial position of the photon."
   ]
  },
  {
   "cell_type": "code",
   "execution_count": 7,
   "metadata": {},
   "outputs": [],
   "source": [
    "M = 1\n",
    "a = 0.9\n",
    "\n",
    "# observer position\n",
    "theta0 = 90*np.pi/180\n",
    "phi0 = 0*np.pi/180\n",
    "r0 = 10\n",
    "\n",
    "# initial position of the ray in the image plane (obs. frame)\n",
    "alpha = 6.475479\n",
    "beta = 0\n",
    "\n",
    "# start and stop time for array integration\n",
    "t_start = 0\n",
    "t_stop = 90"
   ]
  },
  {
   "cell_type": "markdown",
   "metadata": {},
   "source": [
    "Let's try everything out, specifying also the dimensions fo the box used for plotting."
   ]
  },
  {
   "cell_type": "code",
   "execution_count": 8,
   "metadata": {},
   "outputs": [],
   "source": [
    "photon = ray(M, a, r0, alpha, beta, theta0, phi0, t_start, t_stop)\n",
    "dim = [-10, 10, -10, 10, -10, 10]"
   ]
  },
  {
   "cell_type": "markdown",
   "metadata": {},
   "source": [
    "Now we can launch our photon!"
   ]
  },
  {
   "cell_type": "code",
   "execution_count": 9,
   "metadata": {},
   "outputs": [
    {
     "data": {
      "image/png": "[encoded data removed]",
      "text/plain": [
       "<Figure size 432x288 with 1 Axes>"
      ]
     },
     "metadata": {
      "needs_background": "light"
     },
     "output_type": "display_data"
    }
   ],
   "source": [
    "niceplot_ray = plot3d_ray([photon['x']], [photon['y']], [photon['z']],\n",
    "                         dim, M, a)"
   ]
  },
  {
   "cell_type": "markdown",
   "metadata": {},
   "source": [
    "But we aim to do something better: we can plot several photons, shot from slightly different positions."
   ]
  },
  {
   "cell_type": "code",
   "execution_count": 10,
   "metadata": {},
   "outputs": [
    {
     "data": {
      "image/png": "[encoded data removed]",
      "text/plain": [
       "<Figure size 432x288 with 1 Axes>"
      ]
     },
     "metadata": {
      "needs_background": "light"
     },
     "output_type": "display_data"
    }
   ],
   "source": [
    "alphas = [6.32, 6.40, 6.475479, 6.55, 6.62]\n",
    "betas = [-0.5, 0, 0.5]\n",
    "\n",
    "x_plot=[]\n",
    "y_plot=[]\n",
    "z_plot=[]\n",
    "\n",
    "for i in alphas:\n",
    "    for j in betas:\n",
    "        photon = ray(M, a, r0, i, j, theta0, phi0, t_start, t_stop)\n",
    "        x_plot.append(photon['x'])\n",
    "        y_plot.append(photon['y'])\n",
    "        z_plot.append(photon['z'])\n",
    "\n",
    "plot3d_ray(x_plot, y_plot, z_plot, dim, M, a)"
   ]
  },
  {
   "cell_type": "code",
   "execution_count": null,
   "metadata": {},
   "outputs": [],
   "source": []
  }
 ],
 "metadata": {
  "kernelspec": {
   "display_name": "Python 3",
   "language": "python",
   "name": "python3"
  },
  "language_info": {
   "codemirror_mode": {
    "name": "ipython",
    "version": 3
   },
   "file_extension": ".py",
   "mimetype": "text/x-python",
   "name": "python",
   "nbconvert_exporter": "python",
   "pygments_lexer": "ipython3",
   "version": "3.8.3"
  }
 },
 "nbformat": 4,
 "nbformat_minor": 4
}
